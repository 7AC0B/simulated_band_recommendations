{
 "metadata": {
  "language_info": {
   "codemirror_mode": {
    "name": "ipython",
    "version": 3
   },
   "file_extension": ".py",
   "mimetype": "text/x-python",
   "name": "python",
   "nbconvert_exporter": "python",
   "pygments_lexer": "ipython3",
   "version": "3.8.2-final"
  },
  "orig_nbformat": 2,
  "kernelspec": {
   "name": "python3",
   "display_name": "Python 3",
   "language": "python"
  }
 },
 "nbformat": 4,
 "nbformat_minor": 2,
 "cells": [
  {
   "cell_type": "code",
   "execution_count": 1,
   "metadata": {},
   "outputs": [
    {
     "output_type": "stream",
     "name": "stdout",
     "text": [
      "all_genres:\n\n[[90, 83, 72], [18, 52, 62], [14, 47, 91]]\n\n"
     ]
    }
   ],
   "source": [
    "import band_sim_functions as bsim\n",
    "import pandas as pd\n",
    "from Band import Band\n",
    "import plotly.io as pio\n",
    "renderers = [\"browser\", \"notebook_connected\"]\n",
    "pio.renderers.default = renderers[0]\n",
    "\n",
    "number_of_bands = 300\n",
    "style_dimensions = 3\n",
    "band_deviation_from_genre = 3 # 5 works well\n",
    "number_of_genres = 3\n",
    "\n",
    "genre_clusters = bsim.generate_random_cluster_locations(dimensions = style_dimensions, cluster_count = number_of_genres)\n",
    "all_band_positionings = bsim.create_LoL(dims = style_dimensions + 2) # column for each style dimension + 2 for the band's id and name\n",
    "\n",
    "print(f\"all_genres:\\n\\n{genre_clusters}\\n\")\n"
   ]
  },
  {
   "cell_type": "code",
   "execution_count": 2,
   "metadata": {
    "tags": []
   },
   "outputs": [
    {
     "output_type": "execute_result",
     "data": {
      "text/plain": [
       "      id                band   x   y    z\n",
       "0      0    Laminated Fender  82  84   77\n",
       "1      1     Advanced Buffer  16  50   85\n",
       "2      2  Exothermic Leopard  99  76   69\n",
       "3      3         Joint River  28  51   64\n",
       "4      4           Arid Date  26  46   57\n",
       "..   ...                 ...  ..  ..  ...\n",
       "295  295        Frayed Angel   2  48  104\n",
       "296  296          Ash Change  12  44   78\n",
       "297  297     Skinny Bungalow  16  54   98\n",
       "298  298      Metal Metaball  32  53   58\n",
       "299  299        Sad Narrator  85  72   67\n",
       "\n",
       "[300 rows x 5 columns]"
      ],
      "text/html": "<div>\n<style scoped>\n    .dataframe tbody tr th:only-of-type {\n        vertical-align: middle;\n    }\n\n    .dataframe tbody tr th {\n        vertical-align: top;\n    }\n\n    .dataframe thead th {\n        text-align: right;\n    }\n</style>\n<table border=\"1\" class=\"dataframe\">\n  <thead>\n    <tr style=\"text-align: right;\">\n      <th></th>\n      <th>id</th>\n      <th>band</th>\n      <th>x</th>\n      <th>y</th>\n      <th>z</th>\n    </tr>\n  </thead>\n  <tbody>\n    <tr>\n      <th>0</th>\n      <td>0</td>\n      <td>Laminated Fender</td>\n      <td>82</td>\n      <td>84</td>\n      <td>77</td>\n    </tr>\n    <tr>\n      <th>1</th>\n      <td>1</td>\n      <td>Advanced Buffer</td>\n      <td>16</td>\n      <td>50</td>\n      <td>85</td>\n    </tr>\n    <tr>\n      <th>2</th>\n      <td>2</td>\n      <td>Exothermic Leopard</td>\n      <td>99</td>\n      <td>76</td>\n      <td>69</td>\n    </tr>\n    <tr>\n      <th>3</th>\n      <td>3</td>\n      <td>Joint River</td>\n      <td>28</td>\n      <td>51</td>\n      <td>64</td>\n    </tr>\n    <tr>\n      <th>4</th>\n      <td>4</td>\n      <td>Arid Date</td>\n      <td>26</td>\n      <td>46</td>\n      <td>57</td>\n    </tr>\n    <tr>\n      <th>...</th>\n      <td>...</td>\n      <td>...</td>\n      <td>...</td>\n      <td>...</td>\n      <td>...</td>\n    </tr>\n    <tr>\n      <th>295</th>\n      <td>295</td>\n      <td>Frayed Angel</td>\n      <td>2</td>\n      <td>48</td>\n      <td>104</td>\n    </tr>\n    <tr>\n      <th>296</th>\n      <td>296</td>\n      <td>Ash Change</td>\n      <td>12</td>\n      <td>44</td>\n      <td>78</td>\n    </tr>\n    <tr>\n      <th>297</th>\n      <td>297</td>\n      <td>Skinny Bungalow</td>\n      <td>16</td>\n      <td>54</td>\n      <td>98</td>\n    </tr>\n    <tr>\n      <th>298</th>\n      <td>298</td>\n      <td>Metal Metaball</td>\n      <td>32</td>\n      <td>53</td>\n      <td>58</td>\n    </tr>\n    <tr>\n      <th>299</th>\n      <td>299</td>\n      <td>Sad Narrator</td>\n      <td>85</td>\n      <td>72</td>\n      <td>67</td>\n    </tr>\n  </tbody>\n</table>\n<p>300 rows × 5 columns</p>\n</div>"
     },
     "metadata": {},
     "execution_count": 2
    }
   ],
   "source": [
    "all_bands = {}\n",
    "for band_index in range(0, number_of_bands):\n",
    "    new_band = Band(\n",
    "        id = band_index, \n",
    "        genre_clusters = genre_clusters, \n",
    "        band_deviation_from_genre = band_deviation_from_genre,\n",
    "        all_band_positionings = all_band_positionings,\n",
    "        quietly = True)\n",
    "    all_bands.update({band_index : new_band})\n",
    "\n",
    "all_band_positionings = pd.DataFrame(all_band_positionings).transpose()\n",
    "all_band_positionings = bsim.set_column_names(all_band_positionings, style_dimensions)\n",
    "all_band_positionings"
   ]
  },
  {
   "cell_type": "code",
   "execution_count": 3,
   "metadata": {},
   "outputs": [],
   "source": [
    "# bsim.plot_all_band_positions(all_band_positionings, genre_clusters, style_dimensions, print_table = False)"
   ]
  },
  {
   "cell_type": "code",
   "execution_count": 8,
   "metadata": {
    "tags": []
   },
   "outputs": [
    {
     "output_type": "stream",
     "name": "stdout",
     "text": [
      "preparing fig\n"
     ]
    }
   ],
   "source": [
    "playlist_length = 50\n",
    "\n",
    "all_bands[291].plot_playlist(playlist_length, all_band_positionings, all_bands, genre_clusters, style_dimensions)"
   ]
  }
 ]
}